{
 "cells": [
  {
   "cell_type": "code",
   "execution_count": 1,
   "id": "bb9ded8d",
   "metadata": {},
   "outputs": [],
   "source": [
    "# elif statement is used to test multiple conditions"
   ]
  },
  {
   "cell_type": "markdown",
   "id": "5985dc87",
   "metadata": {},
   "source": [
    "#### A python program to test given number is positive ,negative or zero"
   ]
  },
  {
   "cell_type": "code",
   "execution_count": 2,
   "id": "cafd8728",
   "metadata": {},
   "outputs": [
    {
     "name": "stdout",
     "output_type": "stream",
     "text": [
      "enter a number:123\n",
      "123 is positive\n"
     ]
    }
   ],
   "source": [
    "num=int(input(\"enter a number:\"))\n",
    "if num==0:\n",
    "    print(num,\"is zero\")\n",
    "elif num>0:\n",
    "    print(num,\"is positive\")\n",
    "else:\n",
    "    print(num,\"is negative\")"
   ]
  },
  {
   "cell_type": "markdown",
   "id": "85f5fb0e",
   "metadata": {},
   "source": [
    "#### A python program to test student grade according to marks"
   ]
  },
  {
   "cell_type": "code",
   "execution_count": 7,
   "id": "5447a670",
   "metadata": {},
   "outputs": [
    {
     "name": "stdout",
     "output_type": "stream",
     "text": [
      "enter marks:390\n",
      "B grade\n"
     ]
    }
   ],
   "source": [
    "marks=int(input(\"enter marks:\"))\n",
    "if marks>450:\n",
    "    print(\"A+ grade\")\n",
    "elif marks>400:\n",
    "    print(\"A grade\")\n",
    "elif marks>300:\n",
    "    print(\"B grade\")\n",
    "elif marks>180:\n",
    "    print(\"pass\")\n",
    "else:\n",
    "    print(\"fail\")"
   ]
  },
  {
   "cell_type": "markdown",
   "id": "588306ce",
   "metadata": {},
   "source": []
  }
 ],
 "metadata": {
  "kernelspec": {
   "display_name": "Python 3 (ipykernel)",
   "language": "python",
   "name": "python3"
  },
  "language_info": {
   "codemirror_mode": {
    "name": "ipython",
    "version": 3
   },
   "file_extension": ".py",
   "mimetype": "text/x-python",
   "name": "python",
   "nbconvert_exporter": "python",
   "pygments_lexer": "ipython3",
   "version": "3.10.1"
  }
 },
 "nbformat": 4,
 "nbformat_minor": 5
}
