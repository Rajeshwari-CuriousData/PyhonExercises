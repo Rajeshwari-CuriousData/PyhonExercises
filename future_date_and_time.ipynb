{
  "nbformat": 4,
  "nbformat_minor": 0,
  "metadata": {
    "colab": {
      "name": "future date and time.ipynb",
      "provenance": [],
      "collapsed_sections": [],
      "authorship_tag": "ABX9TyO4DkKo00aEwlz5Lj9iwYQW",
      "include_colab_link": true
    },
    "kernelspec": {
      "name": "python3",
      "display_name": "Python 3"
    },
    "language_info": {
      "name": "python"
    }
  },
  "cells": [
    {
      "cell_type": "markdown",
      "metadata": {
        "id": "view-in-github",
        "colab_type": "text"
      },
      "source": [
        "<a href=\"https://colab.research.google.com/github/Rajeshwari-CuriousData/PyhonExercises/blob/main/future_date_and_time.ipynb\" target=\"_parent\"><img src=\"https://colab.research.google.com/assets/colab-badge.svg\" alt=\"Open In Colab\"/></a>"
      ]
    },
    {
      "cell_type": "code",
      "execution_count": 20,
      "metadata": {
        "colab": {
          "base_uri": "https://localhost:8080/"
        },
        "id": "tWlC6l0UApfH",
        "outputId": "40d989a2-d78f-44ac-dc05-89157446bc24"
      },
      "outputs": [
        {
          "output_type": "stream",
          "name": "stdout",
          "text": [
            "The new date and time is: 2022-03-13 06:12:12\n"
          ]
        }
      ],
      "source": [
        "# find future date and time from existing date and time\n",
        "\n",
        "from datetime import *\n",
        "d=datetime(day=21,year=2022,month=2)\n",
        "d1=timedelta(20,minutes=12,seconds=12,hours=6)\n",
        "print(\"The new date and time is:\",d+d1)"
      ]
    },
    {
      "cell_type": "code",
      "source": [
        ""
      ],
      "metadata": {
        "id": "seZBcOTRDHiX"
      },
      "execution_count": null,
      "outputs": []
    }
  ]
}