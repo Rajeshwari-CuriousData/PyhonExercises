{
 "cells": [
  {
   "cell_type": "code",
   "execution_count": 1,
   "id": "d6979d57",
   "metadata": {},
   "outputs": [],
   "source": [
    "# A python program to test whether the  given number even or odd"
   ]
  },
  {
   "cell_type": "code",
   "execution_count": 3,
   "id": "ad838f7e",
   "metadata": {},
   "outputs": [
    {
     "name": "stdout",
     "output_type": "stream",
     "text": [
      "23 is odd number\n"
     ]
    }
   ],
   "source": [
    "x=23\n",
    "if x%2==0:\n",
    "    print(x,\"is even number\")\n",
    "else:\n",
    "    print(x,\"is odd number\")"
   ]
  },
  {
   "cell_type": "code",
   "execution_count": 4,
   "id": "f6ee5f90",
   "metadata": {},
   "outputs": [
    {
     "name": "stdout",
     "output_type": "stream",
     "text": [
      "enter number:12345\n",
      "12345 is odd number\n"
     ]
    }
   ],
   "source": [
    "x=int(input(\"enter number:\"))\n",
    "if x%2==0:\n",
    "    print(x,\"is even number\")\n",
    "else:\n",
    "    print(x,\"is odd number\")"
   ]
  },
  {
   "cell_type": "code",
   "execution_count": 5,
   "id": "0e847527",
   "metadata": {},
   "outputs": [],
   "source": [
    "# A python program to test  given number is  between 1&10"
   ]
  },
  {
   "cell_type": "code",
   "execution_count": 6,
   "id": "8d7b4c35",
   "metadata": {},
   "outputs": [
    {
     "name": "stdout",
     "output_type": "stream",
     "text": [
      "enter a number:98\n",
      "98 which is below 1 or above 10\n"
     ]
    }
   ],
   "source": [
    "x=int(input(\"enter a number:\"))\n",
    "if x>=1 and x<=10:\n",
    "    print(x,\"which is between 1&10\")\n",
    "else:\n",
    "    print(x,\"which is below 1 or above 10\")"
   ]
  },
  {
   "cell_type": "code",
   "execution_count": null,
   "id": "88a9859f",
   "metadata": {},
   "outputs": [],
   "source": []
  }
 ],
 "metadata": {
  "kernelspec": {
   "display_name": "Python 3 (ipykernel)",
   "language": "python",
   "name": "python3"
  },
  "language_info": {
   "codemirror_mode": {
    "name": "ipython",
    "version": 3
   },
   "file_extension": ".py",
   "mimetype": "text/x-python",
   "name": "python",
   "nbconvert_exporter": "python",
   "pygments_lexer": "ipython3",
   "version": "3.10.1"
  }
 },
 "nbformat": 4,
 "nbformat_minor": 5
}
