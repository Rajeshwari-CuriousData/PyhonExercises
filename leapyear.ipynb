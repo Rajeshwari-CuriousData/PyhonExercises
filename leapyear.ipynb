{
  "nbformat": 4,
  "nbformat_minor": 0,
  "metadata": {
    "colab": {
      "name": "leapyear.ipynb",
      "provenance": [],
      "collapsed_sections": [],
      "authorship_tag": "ABX9TyNq/NNovz3KLVJrYKY72zo1",
      "include_colab_link": true
    },
    "kernelspec": {
      "name": "python3",
      "display_name": "Python 3"
    },
    "language_info": {
      "name": "python"
    }
  },
  "cells": [
    {
      "cell_type": "markdown",
      "metadata": {
        "id": "view-in-github",
        "colab_type": "text"
      },
      "source": [
        "<a href=\"https://colab.research.google.com/github/Rajeshwari-CuriousData/PyhonExercises/blob/main/leapyear.ipynb\" target=\"_parent\"><img src=\"https://colab.research.google.com/assets/colab-badge.svg\" alt=\"Open In Colab\"/></a>"
      ]
    },
    {
      "cell_type": "code",
      "execution_count": 2,
      "metadata": {
        "colab": {
          "base_uri": "https://localhost:8080/"
        },
        "id": "nczqfPcv43ex",
        "outputId": "f0e5f009-52a7-42ee-a87f-ce0e4e4205fe"
      },
      "outputs": [
        {
          "output_type": "stream",
          "name": "stdout",
          "text": [
            "Enter year:2022\n",
            "2022 is not a leap year\n"
          ]
        }
      ],
      "source": [
        "# to check weather the given year is leapyear or not\n",
        "\n",
        "from calendar import *\n",
        "y= int(input(\"Enter year:\"))\n",
        "if(isleap(y)):\n",
        "  print(y,\"is a leap year\")\n",
        "else:\n",
        "  print(y, \"is not a leap year\")"
      ]
    },
    {
      "cell_type": "code",
      "source": [
        ""
      ],
      "metadata": {
        "id": "m7aquPR16Ljd"
      },
      "execution_count": 2,
      "outputs": []
    }
  ]
}