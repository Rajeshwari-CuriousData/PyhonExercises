{
 "cells": [
  {
   "cell_type": "markdown",
   "id": "45ce21b8",
   "metadata": {},
   "source": [
    "#### 1 Python program to display sum and average of list of numbers using for loop"
   ]
  },
  {
   "cell_type": "code",
   "execution_count": 5,
   "id": "448569d4",
   "metadata": {},
   "outputs": [
    {
     "name": "stdout",
     "output_type": "stream",
     "text": [
      "10\n",
      "20\n",
      "12\n",
      "35\n",
      "56\n",
      "sum= 133\n",
      "avg= 26.6\n"
     ]
    }
   ],
   "source": [
    "list=[10,20,12,35,56]\n",
    "sum=0\n",
    "for i in list:\n",
    "    print(i)\n",
    "    sum+=i\n",
    "print(\"sum=\",sum)\n",
    "print(\"avg=\",sum/len(list))\n"
   ]
  },
  {
   "cell_type": "markdown",
   "id": "bcfc4233",
   "metadata": {},
   "source": [
    "#### 2 Python program to display sum and average of list of numbers using while loop"
   ]
  },
  {
   "cell_type": "code",
   "execution_count": 7,
   "id": "daf83e40",
   "metadata": {},
   "outputs": [
    {
     "name": "stdout",
     "output_type": "stream",
     "text": [
      "10\n",
      "12\n",
      "45\n",
      "5\n",
      "71\n",
      "sum= 143\n",
      "avg= 28.6\n"
     ]
    }
   ],
   "source": [
    "list=[10,12,45,5,71]\n",
    "sum=0\n",
    "i=0\n",
    "while i<len(list):\n",
    "    print(list[i])\n",
    "    sum+=list[i]\n",
    "    i+=1\n",
    "print(\"sum=\",sum)\n",
    "print(\"avg=\",sum/len(list))\n",
    "    "
   ]
  }
 ],
 "metadata": {
  "kernelspec": {
   "display_name": "Python 3 (ipykernel)",
   "language": "python",
   "name": "python3"
  },
  "language_info": {
   "codemirror_mode": {
    "name": "ipython",
    "version": 3
   },
   "file_extension": ".py",
   "mimetype": "text/x-python",
   "name": "python",
   "nbconvert_exporter": "python",
   "pygments_lexer": "ipython3",
   "version": "3.10.1"
  }
 },
 "nbformat": 4,
 "nbformat_minor": 5
}
