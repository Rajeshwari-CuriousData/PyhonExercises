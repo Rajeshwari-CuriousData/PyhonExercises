{
  "nbformat": 4,
  "nbformat_minor": 0,
  "metadata": {
    "colab": {
      "name": "next 5 days continuously.ipynb",
      "provenance": [],
      "collapsed_sections": [],
      "authorship_tag": "ABX9TyNqkBTCTGZTS6Wzy9gnwJz1",
      "include_colab_link": true
    },
    "kernelspec": {
      "name": "python3",
      "display_name": "Python 3"
    },
    "language_info": {
      "name": "python"
    }
  },
  "cells": [
    {
      "cell_type": "markdown",
      "metadata": {
        "id": "view-in-github",
        "colab_type": "text"
      },
      "source": [
        "<a href=\"https://colab.research.google.com/github/Rajeshwari-CuriousData/PyhonExercises/blob/main/next_5_days_continuously.ipynb\" target=\"_parent\"><img src=\"https://colab.research.google.com/assets/colab-badge.svg\" alt=\"Open In Colab\"/></a>"
      ]
    },
    {
      "cell_type": "code",
      "execution_count": 5,
      "metadata": {
        "colab": {
          "base_uri": "https://localhost:8080/"
        },
        "id": "S8Mka2xSFuTT",
        "outputId": "b4a26a04-35d2-4add-d94a-a20e49231d1d"
      },
      "outputs": [
        {
          "output_type": "stream",
          "name": "stdout",
          "text": [
            "2022-02-21\n",
            "2022-02-22\n",
            "2022-02-23\n",
            "2022-02-24\n",
            "2022-02-25\n",
            "2022-02-26\n"
          ]
        }
      ],
      "source": [
        "# displaying a range of continuous dates\n",
        "\n",
        "from datetime import *\n",
        "d=date.today()\n",
        "print(d)\n",
        "for i in range(1,6):\n",
        "  nextdates = d+timedelta(days=i)\n",
        "  print(nextdates)\n"
      ]
    },
    {
      "cell_type": "code",
      "source": [
        ""
      ],
      "metadata": {
        "id": "ssvSX4XzGBw9"
      },
      "execution_count": null,
      "outputs": []
    }
  ]
}