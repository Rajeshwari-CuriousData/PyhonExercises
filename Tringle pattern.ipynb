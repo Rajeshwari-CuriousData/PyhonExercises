{
 "cells": [
  {
   "cell_type": "markdown",
   "id": "7d390cea",
   "metadata": {},
   "source": [
    "##### Nested loop"
   ]
  },
  {
   "cell_type": "markdown",
   "id": "2c33b074",
   "metadata": {},
   "source": [
    "##### It is possible to write loop inside the loop"
   ]
  },
  {
   "cell_type": "markdown",
   "id": "ed44d618",
   "metadata": {},
   "source": [
    "1. A python program to display stars in right angled tringular form using nested loop"
   ]
  },
  {
   "cell_type": "code",
   "execution_count": 6,
   "id": "1bd47dcf",
   "metadata": {},
   "outputs": [
    {
     "name": "stdout",
     "output_type": "stream",
     "text": [
      "* \n",
      "* * \n",
      "* * * \n",
      "* * * * \n",
      "* * * * * \n",
      "* * * * * * \n",
      "* * * * * * * \n",
      "* * * * * * * * \n",
      "* * * * * * * * * \n"
     ]
    }
   ],
   "source": [
    "for i in range(1,10):          # to display 10 rows\n",
    "    for j in range(1,i+1):            # no. of stsrs =row number\n",
    "        print(\"*\",end=' ')       # end prints all the stars in single line\n",
    "    print()                    # to throw cursor next line we use print() for outer for loop"
   ]
  },
  {
   "cell_type": "markdown",
   "id": "5b6f0c25",
   "metadata": {},
   "source": [
    " #### 2 "
   ]
  },
  {
   "cell_type": "code",
   "execution_count": 40,
   "id": "aa5e5968",
   "metadata": {},
   "outputs": [
    {
     "name": "stdout",
     "output_type": "stream",
     "text": [
      "                   * \n",
      "                   * * \n",
      "                   * * * \n",
      "                   * * * * \n",
      "                   * * * * * \n",
      "                   * * * * * * \n",
      "                   * * * * * * * \n",
      "                   * * * * * * * * \n",
      "                   * * * * * * * * * \n",
      "                   * * * * * * * * * * \n"
     ]
    }
   ],
   "source": [
    "n=20\n",
    "for i in range(1,11):\n",
    "    print(\" \"*(n-1) + \"* \"*(i))"
   ]
  },
  {
   "cell_type": "code",
   "execution_count": 38,
   "id": "6740790e",
   "metadata": {
    "scrolled": true
   },
   "outputs": [
    {
     "name": "stdout",
     "output_type": "stream",
     "text": [
      "                                        * \n",
      "                                       * * \n",
      "                                      * * * \n",
      "                                     * * * * \n",
      "                                    * * * * * \n",
      "                                   * * * * * * \n",
      "                                  * * * * * * * \n",
      "                                 * * * * * * * * \n",
      "                                * * * * * * * * * \n",
      "                               * * * * * * * * * * \n"
     ]
    }
   ],
   "source": [
    "n=40\n",
    "for i in range(1,11):\n",
    "    print(' '*n,end='')  # repeat spaces for n times\n",
    "    print('* '*(i))\n",
    "    n-=1               # reduce the space by 1\n"
   ]
  },
  {
   "cell_type": "code",
   "execution_count": null,
   "id": "faeea9fa",
   "metadata": {},
   "outputs": [],
   "source": []
  },
  {
   "cell_type": "code",
   "execution_count": null,
   "id": "21165036",
   "metadata": {},
   "outputs": [],
   "source": []
  }
 ],
 "metadata": {
  "kernelspec": {
   "display_name": "Python 3 (ipykernel)",
   "language": "python",
   "name": "python3"
  },
  "language_info": {
   "codemirror_mode": {
    "name": "ipython",
    "version": 3
   },
   "file_extension": ".py",
   "mimetype": "text/x-python",
   "name": "python",
   "nbconvert_exporter": "python",
   "pygments_lexer": "ipython3",
   "version": "3.10.1"
  }
 },
 "nbformat": 4,
 "nbformat_minor": 5
}
