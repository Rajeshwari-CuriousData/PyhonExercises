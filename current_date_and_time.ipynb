{
  "nbformat": 4,
  "nbformat_minor": 0,
  "metadata": {
    "colab": {
      "name": "current date and time.ipynb",
      "provenance": [],
      "authorship_tag": "ABX9TyOvedXwaMruEI0vBf8IrlcJ",
      "include_colab_link": true
    },
    "kernelspec": {
      "name": "python3",
      "display_name": "Python 3"
    },
    "language_info": {
      "name": "python"
    }
  },
  "cells": [
    {
      "cell_type": "markdown",
      "metadata": {
        "id": "view-in-github",
        "colab_type": "text"
      },
      "source": [
        "<a href=\"https://colab.research.google.com/github/Rajeshwari-CuriousData/PyhonExercises/blob/main/current_date_and_time.ipynb\" target=\"_parent\"><img src=\"https://colab.research.google.com/assets/colab-badge.svg\" alt=\"Open In Colab\"/></a>"
      ]
    },
    {
      "cell_type": "code",
      "execution_count": null,
      "metadata": {
        "id": "83pR08yspNbC",
        "colab": {
          "base_uri": "https://localhost:8080/"
        },
        "outputId": "22ff82ba-365f-4554-a490-4cb96aad982e"
      },
      "outputs": [
        {
          "output_type": "stream",
          "name": "stdout",
          "text": [
            "Mon Feb 21 05:07:17 2022\n"
          ]
        }
      ],
      "source": [
        "# finding current date and time using ctime()\n",
        "\n",
        "import time\n",
        "t=time.ctime()\n",
        "print(t)"
      ]
    },
    {
      "cell_type": "code",
      "source": [
        " # measure the time in seconds since the epoch\n",
        " \n",
        "import time\n",
        "epoch=time.time()\n",
        "print(epoch)"
      ],
      "metadata": {
        "colab": {
          "base_uri": "https://localhost:8080/"
        },
        "id": "IXJz_B8GrcmX",
        "outputId": "75671010-dc51-47f2-e992-598a30e642d3"
      },
      "execution_count": null,
      "outputs": [
        {
          "output_type": "stream",
          "name": "stdout",
          "text": [
            "1645420134.9132493\n"
          ]
        }
      ]
    },
    {
      "cell_type": "code",
      "source": [
        "#convert epoch time into curent time and date using ctime\n",
        "\n",
        "import time \n",
        "t=time.ctime(1645420134.9132493)\n",
        "print(t)\n"
      ],
      "metadata": {
        "colab": {
          "base_uri": "https://localhost:8080/"
        },
        "id": "5ju3w4oDrrvU",
        "outputId": "1cdb8723-865c-4c73-b257-776e9b936fd7"
      },
      "execution_count": null,
      "outputs": [
        {
          "output_type": "stream",
          "name": "stdout",
          "text": [
            "Mon Feb 21 05:08:54 2022\n"
          ]
        }
      ]
    },
    {
      "cell_type": "code",
      "source": [
        "# python program to know localdate and time\n",
        "from datetime import *\n",
        "#import datetime\n",
        "now=datetime.now()\n",
        "print(now)\n",
        "print('date now:{}/{}/{}'.format(now.day,now.month,now.year))\n",
        "print('time now:{}:{}:{}'.format(now.hour,now.minute,now.second))"
      ],
      "metadata": {
        "colab": {
          "base_uri": "https://localhost:8080/"
        },
        "id": "U9WSaKtBtBKv",
        "outputId": "45dd240b-588b-42f9-f336-40b7ed470987"
      },
      "execution_count": null,
      "outputs": [
        {
          "output_type": "stream",
          "name": "stdout",
          "text": [
            "2022-02-21 05:30:57.374080\n",
            "date now:21/2/2022\n",
            "time now:5:30:57\n"
          ]
        }
      ]
    },
    {
      "cell_type": "code",
      "source": [
        "# today date and time\n",
        "\n",
        "from datetime import *\n",
        "tdm=datetime.today()\n",
        "print(\"today's date and time\",tdm)\n"
      ],
      "metadata": {
        "colab": {
          "base_uri": "https://localhost:8080/"
        },
        "id": "91E-dJ-rujqs",
        "outputId": "b3a2c0a9-23b0-47d8-d59c-26093678e26e"
      },
      "execution_count": null,
      "outputs": [
        {
          "output_type": "stream",
          "name": "stdout",
          "text": [
            "today's date and time 2022-02-21 05:37:09.368734\n"
          ]
        }
      ]
    },
    {
      "cell_type": "code",
      "source": [
        "# curent date\n",
        "\n",
        "td=date.today()\n",
        "print(td)"
      ],
      "metadata": {
        "colab": {
          "base_uri": "https://localhost:8080/"
        },
        "id": "XjbEGf86xznt",
        "outputId": "915b6194-e5a7-4620-ec3d-6df9b61a05e2"
      },
      "execution_count": null,
      "outputs": [
        {
          "output_type": "stream",
          "name": "stdout",
          "text": [
            "2022-02-21\n"
          ]
        }
      ]
    },
    {
      "cell_type": "code",
      "source": [
        ""
      ],
      "metadata": {
        "id": "2c-FbaOUyhjT"
      },
      "execution_count": null,
      "outputs": []
    }
  ]
}